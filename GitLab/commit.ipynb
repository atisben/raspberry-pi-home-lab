{
 "cells": [
  {
   "cell_type": "code",
   "execution_count": null,
   "metadata": {},
   "outputs": [],
   "source": [
    "import gitlab\n",
    "from dotenv import load_dotenv\n",
    "load_dotenv(\"./.env\", override=True)\n",
    "import os"
   ]
  },
  {
   "cell_type": "code",
   "execution_count": null,
   "metadata": {},
   "outputs": [],
   "source": [
    "print(os.getenv(\"GIT_URL\"))"
   ]
  },
  {
   "cell_type": "code",
   "execution_count": null,
   "metadata": {},
   "outputs": [],
   "source": [
    "username = os.getenv(\"GIT_USERNAME\")\n",
    "git_url = os.getenv(\"GIT_URL\")\n",
    "gl = gitlab.Gitlab(git_url, os.getenv(\"GIT_TOKEN\"))\n"
   ]
  },
  {
   "cell_type": "code",
   "execution_count": null,
   "metadata": {},
   "outputs": [],
   "source": [
    "project_list=[]\n",
    "# list all the projects\n",
    "projects = gl.projects.list(iterator=True, owner=True)\n",
    "for project in projects:\n",
    "    project_list.append(project)"
   ]
  },
  {
   "cell_type": "code",
   "execution_count": null,
   "metadata": {},
   "outputs": [],
   "source": [
    "print(len(project_list))"
   ]
  },
  {
   "cell_type": "code",
   "execution_count": null,
   "metadata": {},
   "outputs": [],
   "source": [
    "commits = []\n",
    "total_commits = 0\n",
    "for project in project_list:\n",
    "    project_id = project.id\n",
    "    try:\n",
    "        commits = project.commits.list(all=True) \n",
    "        user_commits = [commit for commit in commits if commit.author_email == os.getenv(\"GIT_EMAIL\")]  \n",
    "        total_commits += len(user_commits) \n",
    "    except:\n",
    "        pass \n",
    "\n"
   ]
  },
  {
   "cell_type": "code",
   "execution_count": null,
   "metadata": {},
   "outputs": [],
   "source": [
    "print(total_commits)"
   ]
  },
  {
   "cell_type": "code",
   "execution_count": null,
   "metadata": {},
   "outputs": [],
   "source": [
    "# Get the user ID by username\n",
    "user = gl.users.list(username=os.getenv(\"GIT_USERNAME\"))[0]\n",
    "user_name = user.name\n",
    "user_id = user.id\n",
    "print(f\"Checking for user {username} (#{user_id})\")\n",
    "\n",
    "total_commits = 0\n",
    "i = 0\n",
    "while i < len(projects):\n",
    "    project = gl.projects.get(projects[i].id)\n",
    "    print(f\"Checking project {i}/{len(projects)} : {project.name}...\")\n",
    "    # Filter commits by author ID\n",
    "    default_branch = project.default_branch\n",
    "    project_branches = project.branches.list(get_all=True)\n",
    "\n",
    "    for branch in project_branches:\n",
    "        branch_name = branch.name\n",
    "        branch_commits = project.commits.list(ref_name=branch.name, get_all=True)\n",
    "        for commit in branch_commits:\n",
    "            total_commits += (\n",
    "                1\n",
    "                if commit.author_name == user_name or commit.author_name == username\n",
    "                else 0\n",
    "            )\n",
    "    i += 1\n",
    "\n",
    "print(f\"Total number of commits for {username} : {total_commits}\")"
   ]
  }
 ],
 "metadata": {
  "kernelspec": {
   "display_name": ".venv",
   "language": "python",
   "name": "python3"
  },
  "language_info": {
   "codemirror_mode": {
    "name": "ipython",
    "version": 3
   },
   "file_extension": ".py",
   "mimetype": "text/x-python",
   "name": "python",
   "nbconvert_exporter": "python",
   "pygments_lexer": "ipython3",
   "version": "3.12.9"
  }
 },
 "nbformat": 4,
 "nbformat_minor": 2
}
